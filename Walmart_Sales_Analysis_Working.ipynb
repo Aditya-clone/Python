{
 "cells": [
  {
   "cell_type": "markdown",
   "id": "formed-awareness",
   "metadata": {},
   "source": [
    "# Walmart Sales Insights Dashbaord - Working File"
   ]
  },
  {
   "cell_type": "markdown",
   "id": "preceding-english",
   "metadata": {},
   "source": [
    "## Import Python Libraries"
   ]
  },
  {
   "cell_type": "code",
   "execution_count": 67,
   "id": "disabled-harassment",
   "metadata": {},
   "outputs": [],
   "source": [
    "import gspread_pandas as gsp\n",
    "\n",
    "import pandas as pd\n",
    "import numpy as np\n",
    "import re\n",
    "from tabulate import tabulate\n",
    "import datetime\n",
    "\n",
    "import matplotlib.pyplot as plt \n",
    "%matplotlib inline\n",
    "\n",
    "import seaborn as sns"
   ]
  },
  {
   "cell_type": "code",
   "execution_count": null,
   "id": "45afdfa5-6135-41f0-8049-bdc80f0dad73",
   "metadata": {},
   "outputs": [],
   "source": []
  },
  {
   "cell_type": "markdown",
   "id": "serial-africa",
   "metadata": {},
   "source": [
    "## Import Data From Google Sheets and Excel Sheet"
   ]
  },
  {
   "cell_type": "code",
   "execution_count": 68,
   "id": "detailed-insurance",
   "metadata": {},
   "outputs": [],
   "source": [
    "branch_details = pd.read_excel('Branch_Details.xlsx') # Excel Sheet\n",
    "\n",
    "order_file = gsp.Spread('1fBU8Mi6_UnPE0jer9gQYDw8WiGSRYNKy0GuEObRu0I8')\n",
    "order_details = order_file.sheet_to_df(sheet = 'Order_Details', index = 0, header_rows = 1) # google sheet\n",
    "\n",
    "product_file = gsp.Spread('1evz8m-kvzQdxXyQNueFTGl7oy-ZEp2BxGF9JJ3cz3E4')\n",
    "product_details = product_file.sheet_to_df(sheet = 'Product_Details', index = 0, header_rows = 1)\n",
    "\n",
    "User_file = gsp.Spread('1AVGlmdBufGzDZ_9jI4WkzAFkdOFtz20_L8-LsVNaGzk')\n",
    "user_details = User_file.sheet_to_df(sheet = 'User_Details', index = 0, header_rows = 1)\n",
    "\n"
   ]
  },
  {
   "cell_type": "markdown",
   "id": "exempt-serum",
   "metadata": {},
   "source": [
    "## Data Cleaning"
   ]
  },
  {
   "cell_type": "code",
   "execution_count": 69,
   "id": "naked-cable",
   "metadata": {},
   "outputs": [
    {
     "name": "stdout",
     "output_type": "stream",
     "text": [
      "Branch details columns before cleanup : Index(['Branch_ID', 'Branch_Name', 'Location@', 'Branch_Manager'], dtype='object')\n",
      "Branch details columns after cleanup : Index(['branch_id', 'branch_name', 'location', 'branch_manager'], dtype='object')\n",
      "\u001b[1m-------------------------------------------------------------------------------------------------------------------------\u001b[0m\n",
      "Order details columns before cleanup : Index(['Order_ID', 'Date', 'Quantity', 'Branch_ID', 'Product_ID', 'user_id',\n",
      "       'Sale'],\n",
      "      dtype='object')\n",
      "Order details columns after cleanup : Index(['order_id', 'date', 'quantity', 'branch_id', 'product_id', 'user_id',\n",
      "       'sale'],\n",
      "      dtype='object')\n",
      "\u001b[1m-------------------------------------------------------------------------------------------------------------------------\u001b[0m\n",
      "Product details columns before cleanup : Index(['Product_ID', 'Product_Category', 'Product_name', 'Price', 'Stock'], dtype='object')\n",
      "Product details columns after cleanup : Index(['product_id', 'product_category', 'product_name', 'price', 'stock'], dtype='object')\n",
      "\u001b[1m-------------------------------------------------------------------------------------------------------------------------\u001b[0m\n",
      "User details columns before cleanup : Index(['User_ID', 'Cust_name', 'Gender', 'Age Group', 'Age', 'Marital_Status',\n",
      "       'State', 'Zone', 'Occupation'],\n",
      "      dtype='object')\n",
      "User details columns after cleanup : Index(['user_id', 'cust_name', 'gender', 'age_group', 'age', 'marital_status',\n",
      "       'state', 'zone', 'occupation'],\n",
      "      dtype='object')\n",
      "\u001b[1m-------------------------------------------------------------------------------------------------------------------------\u001b[0m\n"
     ]
    }
   ],
   "source": [
    "# Data Frame Columns cleanup for special characters\n",
    "\n",
    "print(f'Branch details columns before cleanup : {branch_details.columns}')\n",
    "branch_details.columns = list(map(lambda x:re.sub(r'\\W+','_',x).lower().strip('_'), branch_details.columns))\n",
    "print(f'Branch details columns after cleanup : {branch_details.columns}')\n",
    "print('\\033[1m' + \"-------------------------------------------------------------------------------------------------------------------------\" + '\\033[0m')\n",
    "\n",
    "\n",
    "print(f'Order details columns before cleanup : {order_details.columns}')\n",
    "order_details.columns = list(map(lambda x:re.sub(r'\\W+','_',x).lower().strip('_'), order_details.columns))\n",
    "print(f'Order details columns after cleanup : {order_details.columns}')\n",
    "print('\\033[1m' + \"-------------------------------------------------------------------------------------------------------------------------\"  + '\\033[0m')\n",
    "\n",
    "\n",
    "print(f'Product details columns before cleanup : {product_details.columns}')\n",
    "product_details.columns = list(map(lambda x:re.sub(r'\\W+','_',x).lower().strip('_'), product_details.columns))\n",
    "print(f'Product details columns after cleanup : {product_details.columns}')\n",
    "print('\\033[1m' + \"-------------------------------------------------------------------------------------------------------------------------\"  + '\\033[0m')\n",
    "\n",
    "\n",
    "print(f'User details columns before cleanup : {user_details.columns}')\n",
    "user_details.columns = list(map(lambda x:re.sub(r'\\W+','_',x).lower().strip('_'), user_details.columns))\n",
    "print(f'User details columns after cleanup : {user_details.columns}')\n",
    "print('\\033[1m' + \"-------------------------------------------------------------------------------------------------------------------------\"  + '\\033[0m')"
   ]
  },
  {
   "cell_type": "markdown",
   "id": "legendary-rogers",
   "metadata": {},
   "source": [
    "Find Empty rows/columns and delete them"
   ]
  },
  {
   "cell_type": "code",
   "execution_count": 70,
   "id": "empirical-humanity",
   "metadata": {},
   "outputs": [
    {
     "name": "stdout",
     "output_type": "stream",
     "text": [
      "\n",
      "Dataset before empty columns cleanup : \n",
      "\n",
      "Branch dataset has 17 rows and 4 columns\n",
      "Order dataset has 1037 rows and 7 columns\n",
      "Product dataset has 7118 rows and 5 columns\n",
      "User dataset has 11176 rows and 9 columns\n"
     ]
    }
   ],
   "source": [
    "# Rows and Columns in dataframe before deleteing empty columns\n",
    "\n",
    "print('\\nDataset before empty columns cleanup : \\n')\n",
    "print(f'Branch dataset has {branch_details.shape[0]} rows and {branch_details.shape[1]} columns')\n",
    "print(f'Order dataset has {order_details.shape[0]} rows and {order_details.shape[1]} columns')\n",
    "print(f'Product dataset has {product_details.shape[0]} rows and {product_details.shape[1]} columns')\n",
    "print(f'User dataset has {user_details.shape[0]} rows and {user_details.shape[1]} columns')"
   ]
  },
  {
   "cell_type": "code",
   "execution_count": 71,
   "id": "billion-popularity",
   "metadata": {},
   "outputs": [
    {
     "name": "stdout",
     "output_type": "stream",
     "text": [
      "<class 'pandas.core.frame.DataFrame'>\n",
      "RangeIndex: 17 entries, 0 to 16\n",
      "Data columns (total 4 columns):\n",
      " #   Column          Non-Null Count  Dtype  \n",
      "---  ------          --------------  -----  \n",
      " 0   branch_id       17 non-null     object \n",
      " 1   branch_name     17 non-null     object \n",
      " 2   location        16 non-null     object \n",
      " 3   branch_manager  0 non-null      float64\n",
      "dtypes: float64(1), object(3)\n",
      "memory usage: 676.0+ bytes\n"
     ]
    }
   ],
   "source": [
    "branch_details.info()"
   ]
  },
  {
   "cell_type": "code",
   "execution_count": 72,
   "id": "corporate-onion",
   "metadata": {},
   "outputs": [
    {
     "name": "stdout",
     "output_type": "stream",
     "text": [
      "<class 'pandas.core.frame.DataFrame'>\n",
      "RangeIndex: 1037 entries, 0 to 1036\n",
      "Data columns (total 7 columns):\n",
      " #   Column      Non-Null Count  Dtype \n",
      "---  ------      --------------  ----- \n",
      " 0   order_id    1037 non-null   object\n",
      " 1   date        1037 non-null   object\n",
      " 2   quantity    1037 non-null   object\n",
      " 3   branch_id   1037 non-null   object\n",
      " 4   product_id  1037 non-null   object\n",
      " 5   user_id     1037 non-null   object\n",
      " 6   sale        1037 non-null   object\n",
      "dtypes: object(7)\n",
      "memory usage: 56.8+ KB\n"
     ]
    }
   ],
   "source": [
    "order_details.info()"
   ]
  },
  {
   "cell_type": "code",
   "execution_count": 73,
   "id": "available-intermediate",
   "metadata": {},
   "outputs": [
    {
     "name": "stdout",
     "output_type": "stream",
     "text": [
      "<class 'pandas.core.frame.DataFrame'>\n",
      "RangeIndex: 7118 entries, 0 to 7117\n",
      "Data columns (total 5 columns):\n",
      " #   Column            Non-Null Count  Dtype \n",
      "---  ------            --------------  ----- \n",
      " 0   product_id        7118 non-null   object\n",
      " 1   product_category  7118 non-null   object\n",
      " 2   product_name      7118 non-null   object\n",
      " 3   price             7118 non-null   object\n",
      " 4   stock             7118 non-null   object\n",
      "dtypes: object(5)\n",
      "memory usage: 278.2+ KB\n"
     ]
    }
   ],
   "source": [
    "product_details.info()"
   ]
  },
  {
   "cell_type": "code",
   "execution_count": 74,
   "id": "hidden-marsh",
   "metadata": {},
   "outputs": [
    {
     "name": "stdout",
     "output_type": "stream",
     "text": [
      "<class 'pandas.core.frame.DataFrame'>\n",
      "RangeIndex: 11176 entries, 0 to 11175\n",
      "Data columns (total 9 columns):\n",
      " #   Column          Non-Null Count  Dtype \n",
      "---  ------          --------------  ----- \n",
      " 0   user_id         11176 non-null  object\n",
      " 1   cust_name       11176 non-null  object\n",
      " 2   gender          11176 non-null  object\n",
      " 3   age_group       11176 non-null  object\n",
      " 4   age             11176 non-null  object\n",
      " 5   marital_status  11176 non-null  object\n",
      " 6   state           11176 non-null  object\n",
      " 7   zone            11176 non-null  object\n",
      " 8   occupation      11176 non-null  object\n",
      "dtypes: object(9)\n",
      "memory usage: 785.9+ KB\n"
     ]
    }
   ],
   "source": [
    "user_details.info()"
   ]
  },
  {
   "cell_type": "code",
   "execution_count": 75,
   "id": "acquired-sound",
   "metadata": {},
   "outputs": [],
   "source": [
    "# Delete columns which are completely blank\n",
    "\n",
    "branch_details.dropna(axis=1, how='all', inplace=True)\n",
    "order_details.dropna(axis=1, how='all', inplace=True)\n",
    "product_details.dropna(axis=1, how='all', inplace=True)\n",
    "user_details.dropna(axis=1, how='all', inplace=True)"
   ]
  },
  {
   "cell_type": "code",
   "execution_count": 76,
   "id": "responsible-salon",
   "metadata": {},
   "outputs": [],
   "source": [
    "# Delete rows which has certain field as blank\n",
    "\n",
    "branch_details = branch_details[(branch_details.location.notnull()) & (branch_details.location)]\n",
    "\n",
    "order_details = order_details[order_details.quantity.notnull() & (order_details.quantity) & (order_details.quantity != 0)]\n",
    "\n",
    "product_details = product_details[product_details.price.notnull() & (product_details.price) & (product_details.price != 0)]\n"
   ]
  },
  {
   "cell_type": "code",
   "execution_count": 77,
   "id": "subtle-bridges",
   "metadata": {},
   "outputs": [
    {
     "name": "stdout",
     "output_type": "stream",
     "text": [
      "\n",
      "Dataset after empty columns cleanup : \n",
      "\n",
      "Branch dataset has 16 rows and 3 columns\n",
      "Order dataset has 1034 rows and 7 columns\n",
      "Product dataset has 7118 rows and 5 columns\n",
      "User dataset has 11176 rows and 9 columns\n"
     ]
    }
   ],
   "source": [
    "# Rows and Columns in dataframe after deleteing empty columns\n",
    "\n",
    "print('\\nDataset after empty columns cleanup : \\n')\n",
    "print(f'Branch dataset has {branch_details.shape[0]} rows and {branch_details.shape[1]} columns')\n",
    "print(f'Order dataset has {order_details.shape[0]} rows and {order_details.shape[1]} columns')\n",
    "print(f'Product dataset has {product_details.shape[0]} rows and {product_details.shape[1]} columns')\n",
    "print(f'User dataset has {user_details.shape[0]} rows and {user_details.shape[1]} columns')"
   ]
  },
  {
   "cell_type": "code",
   "execution_count": 78,
   "id": "acoustic-housing",
   "metadata": {},
   "outputs": [],
   "source": [
    "# pd.isnull(product_details).sum()"
   ]
  },
  {
   "cell_type": "markdown",
   "id": "altered-physics",
   "metadata": {},
   "source": []
  },
  {
   "cell_type": "code",
   "execution_count": 79,
   "id": "dressed-iceland",
   "metadata": {},
   "outputs": [],
   "source": [
    "# Keep only numeric values"
   ]
  },
  {
   "cell_type": "code",
   "execution_count": 80,
   "id": "provincial-algorithm",
   "metadata": {},
   "outputs": [],
   "source": [
    "order_details = order_details[order_details['quantity'].str.isnumeric()]\n",
    "\n",
    "product_details = product_details[product_details['price'].str.isnumeric()]\n",
    "product_details = product_details[product_details['stock'].str.isnumeric()]\n",
    "\n",
    "user_details = user_details[user_details['age'].str.isnumeric()]"
   ]
  },
  {
   "cell_type": "markdown",
   "id": "respiratory-profit",
   "metadata": {},
   "source": [
    "## Change data type if required"
   ]
  },
  {
   "cell_type": "code",
   "execution_count": 81,
   "id": "identical-fundamental",
   "metadata": {},
   "outputs": [],
   "source": [
    "order_details['quantity'] = order_details['quantity'].astype('int')\n",
    "\n",
    "product_details['price'] = product_details['price'].astype('int')\n",
    "product_details['stock'] = product_details['stock'].astype('int')\n",
    "\n",
    "user_details['age'] = user_details['age'].astype('int')"
   ]
  },
  {
   "cell_type": "code",
   "execution_count": 82,
   "id": "after-transport",
   "metadata": {},
   "outputs": [
    {
     "name": "stdout",
     "output_type": "stream",
     "text": [
      "<class 'pandas.core.frame.DataFrame'>\n",
      "Index: 1034 entries, 0 to 1036\n",
      "Data columns (total 7 columns):\n",
      " #   Column      Non-Null Count  Dtype \n",
      "---  ------      --------------  ----- \n",
      " 0   order_id    1034 non-null   object\n",
      " 1   date        1034 non-null   object\n",
      " 2   quantity    1034 non-null   int64 \n",
      " 3   branch_id   1034 non-null   object\n",
      " 4   product_id  1034 non-null   object\n",
      " 5   user_id     1034 non-null   object\n",
      " 6   sale        1034 non-null   object\n",
      "dtypes: int64(1), object(6)\n",
      "memory usage: 64.6+ KB\n"
     ]
    }
   ],
   "source": [
    "order_details.info()"
   ]
  },
  {
   "cell_type": "code",
   "execution_count": 83,
   "id": "lyric-annotation",
   "metadata": {},
   "outputs": [
    {
     "name": "stdout",
     "output_type": "stream",
     "text": [
      "<class 'pandas.core.frame.DataFrame'>\n",
      "Index: 7117 entries, 0 to 7117\n",
      "Data columns (total 5 columns):\n",
      " #   Column            Non-Null Count  Dtype \n",
      "---  ------            --------------  ----- \n",
      " 0   product_id        7117 non-null   object\n",
      " 1   product_category  7117 non-null   object\n",
      " 2   product_name      7117 non-null   object\n",
      " 3   price             7117 non-null   int64 \n",
      " 4   stock             7117 non-null   int64 \n",
      "dtypes: int64(2), object(3)\n",
      "memory usage: 333.6+ KB\n"
     ]
    }
   ],
   "source": [
    "product_details.info()"
   ]
  },
  {
   "cell_type": "code",
   "execution_count": 84,
   "id": "democratic-pound",
   "metadata": {},
   "outputs": [
    {
     "name": "stdout",
     "output_type": "stream",
     "text": [
      "<class 'pandas.core.frame.DataFrame'>\n",
      "RangeIndex: 11176 entries, 0 to 11175\n",
      "Data columns (total 9 columns):\n",
      " #   Column          Non-Null Count  Dtype \n",
      "---  ------          --------------  ----- \n",
      " 0   user_id         11176 non-null  object\n",
      " 1   cust_name       11176 non-null  object\n",
      " 2   gender          11176 non-null  object\n",
      " 3   age_group       11176 non-null  object\n",
      " 4   age             11176 non-null  int64 \n",
      " 5   marital_status  11176 non-null  object\n",
      " 6   state           11176 non-null  object\n",
      " 7   zone            11176 non-null  object\n",
      " 8   occupation      11176 non-null  object\n",
      "dtypes: int64(1), object(8)\n",
      "memory usage: 785.9+ KB\n"
     ]
    }
   ],
   "source": [
    "user_details.info()"
   ]
  },
  {
   "cell_type": "code",
   "execution_count": 85,
   "id": "fourth-graham",
   "metadata": {},
   "outputs": [],
   "source": [
    "product_details.rename(columns={'stock':'available_stock'}, inplace = True)"
   ]
  },
  {
   "cell_type": "code",
   "execution_count": null,
   "id": "convenient-storm",
   "metadata": {},
   "outputs": [],
   "source": []
  },
  {
   "cell_type": "code",
   "execution_count": null,
   "id": "7501ae6a-edab-47f7-b7c1-7871657f33a5",
   "metadata": {},
   "outputs": [],
   "source": []
  }
 ],
 "metadata": {
  "kernelspec": {
   "display_name": "Python 3 (ipykernel)",
   "language": "python",
   "name": "python3"
  },
  "language_info": {
   "codemirror_mode": {
    "name": "ipython",
    "version": 3
   },
   "file_extension": ".py",
   "mimetype": "text/x-python",
   "name": "python",
   "nbconvert_exporter": "python",
   "pygments_lexer": "ipython3",
   "version": "3.12.4"
  }
 },
 "nbformat": 4,
 "nbformat_minor": 5
}
